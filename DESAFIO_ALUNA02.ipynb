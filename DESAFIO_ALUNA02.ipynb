{
    "metadata": {
        "kernelspec": {
            "name": "SQL",
            "display_name": "SQL",
            "language": "sql"
        },
        "language_info": {
            "name": "sql",
            "version": ""
        }
    },
    "nbformat_minor": 2,
    "nbformat": 4,
    "cells": [
        {
            "cell_type": "markdown",
            "source": [
                "**\\*\\*\\* Olá! \\*\\*\\***\n",
                "\n",
                "**Bem-vindo(a)(e) à resolução da Amanda Giacometti, aluna número 02 do DWE 2023.**\n",
                "\n",
                "**Vamos começar? :)**\n",
                "\n",
                "**Primeiramente vou \"ativar\" meu banco de dados, que é o DW\\_02 e está dentro do servidor SQL com IP 20.83.31.31**\n",
                "\n",
                "**É dentro dele que vamos trabalhar!**"
            ],
            "metadata": {
                "azdata_cell_guid": "9c4fc0b8-32ac-4b9f-8f24-47f4ff91bd30"
            },
            "attachments": {}
        },
        {
            "cell_type": "code",
            "source": [
                "IF NOT EXISTS (SELECT * FROM  sys.databases WHERE name='DW_02') CREATE DATABASE DW_02\r\n",
                "GO\r\n",
                "USE DW_02\r\n",
                "GO"
            ],
            "metadata": {
                "azdata_cell_guid": "f2ca4e68-b40f-45d6-9495-47ddca284405",
                "language": "sql"
            },
            "outputs": [
                {
                    "output_type": "display_data",
                    "data": {
                        "text/html": "Commands completed successfully."
                    },
                    "metadata": {}
                },
                {
                    "output_type": "display_data",
                    "data": {
                        "text/html": "Commands completed successfully."
                    },
                    "metadata": {}
                },
                {
                    "output_type": "display_data",
                    "data": {
                        "text/html": "Total execution time: 00:00:00.336"
                    },
                    "metadata": {}
                }
            ],
            "execution_count": 80
        },
        {
            "cell_type": "markdown",
            "source": [
                "**Agora vou criar schemas para acomodar minhas tabelas:**\n",
                "\n",
                "**Nota: A última letra está duplicada de propósito. Na minha database já havia schemas com o mesmo nome, de aulas anteriores. Para driblar isso, dupliquei a última letra.**"
            ],
            "metadata": {
                "azdata_cell_guid": "5d0aa3ee-74a5-45e5-a808-d7091c7f83e1"
            },
            "attachments": {}
        },
        {
            "cell_type": "code",
            "source": [
                "IF NOT EXISTS (SELECT 1 FROM sys.schemas WHERE name='STAGINGG')\r\n",
                "   EXEC('CREATE SCHEMA STAGINGG');\r\n",
                "GO\r\n",
                "\r\n",
                "IF NOT EXISTS (SELECT 1 FROM sys.schemas WHERE name='SILVERR')\r\n",
                "    EXEC('CREATE SCHEMA SILVERR');\r\n",
                "GO\r\n",
                "\r\n",
                "IF NOT EXISTS (SELECT 1 FROM sys.schemas WHERE name='GOLDD')\r\n",
                "    EXEC('CREATE SCHEMA GOLDD');\r\n",
                "GO\r\n",
                "\r\n",
                "IF NOT EXISTS (SELECT 1 FROM sys.schemas WHERE name='LOGG')\r\n",
                "    EXEC('CREATE SCHEMA LOGG');\r\n",
                "GO"
            ],
            "metadata": {
                "azdata_cell_guid": "968deaac-4323-4eee-a154-18f7b50a19b3",
                "language": "sql"
            },
            "outputs": [
                {
                    "output_type": "display_data",
                    "data": {
                        "text/html": "Commands completed successfully."
                    },
                    "metadata": {}
                },
                {
                    "output_type": "display_data",
                    "data": {
                        "text/html": "Commands completed successfully."
                    },
                    "metadata": {}
                },
                {
                    "output_type": "display_data",
                    "data": {
                        "text/html": "Commands completed successfully."
                    },
                    "metadata": {}
                },
                {
                    "output_type": "display_data",
                    "data": {
                        "text/html": "Commands completed successfully."
                    },
                    "metadata": {}
                },
                {
                    "output_type": "display_data",
                    "data": {
                        "text/html": "Total execution time: 00:00:00.713"
                    },
                    "metadata": {}
                }
            ],
            "execution_count": 81
        },
        {
            "cell_type": "markdown",
            "source": [
                "**Agora vou criar uma tabela de log. Ela é importante para nos auxiliar em caso de falhas.**"
            ],
            "metadata": {
                "azdata_cell_guid": "c29b609d-949a-40d8-be02-c17a9736cf24"
            },
            "attachments": {}
        },
        {
            "cell_type": "code",
            "source": [
                "USE DW_02\r\n",
                "GO\r\n",
                "\r\n",
                "IF NOT EXISTS\r\n",
                "  (SELECT * FROM sysobjects WHERE name='LOGG_CARGAS' AND xtype='U')\r\n",
                "\r\n",
                "CREATE TABLE LOGG.LOGG_CARGAS\r\n",
                " (ID INT IDENTITY(1,1) NOT NULL PRIMARY KEY,\r\n",
                " NUMERO_ERRO INT,\r\n",
                " SERVERIDADE_ERRO INT,\r\n",
                " ESTADO_ERRO  INT,\r\n",
                " PROC_ERRO NVARCHAR,\r\n",
                " LINHA_ERRO INT,\r\n",
                " MSG_ERRO NVARCHAR,\r\n",
                " SITUACAO NVARCHAR,\r\n",
                " PROCESSO NVARCHAR,\r\n",
                " DATA_INI DATETIME,\r\n",
                " DATA_FIM DATETIME  \r\n",
                " )   "
            ],
            "metadata": {
                "azdata_cell_guid": "629e34f1-22ba-4b59-b0ad-ba7defb050f4",
                "language": "sql"
            },
            "outputs": [
                {
                    "output_type": "display_data",
                    "data": {
                        "text/html": "Commands completed successfully."
                    },
                    "metadata": {}
                },
                {
                    "output_type": "display_data",
                    "data": {
                        "text/html": "Commands completed successfully."
                    },
                    "metadata": {}
                },
                {
                    "output_type": "display_data",
                    "data": {
                        "text/html": "Total execution time: 00:00:00.356"
                    },
                    "metadata": {}
                }
            ],
            "execution_count": 82
        },
        {
            "cell_type": "markdown",
            "source": [
                "**Agora vou criar os stagings dos dados originais. Como são muitas categorias, eu agrupei da melhor forma que encontrei - ao mesmo tempo tentei manter um Star Schema, sem cair em um Snowflake.** \n",
                "\n",
                "**Abaixo, temos uma imagem que ilustra minha linha de raciocínio.**\n",
                "\n",
                "**Nota 1: este nao é o Star Schema final do desafio!**\n",
                "\n",
                "**Nota 2: eu escolhi propositalmente colocar \"nomes\" ao invés de números na tabela fato (por exemplo: \"nome da unidade\" ao invés de \"código da unidade\"). Fiz isso para que fique mais legível e intuitivo.**\n",
                "\n",
                "**Nota 3: o comando \"if not exists\" estava dando erro para mim, só funcionou depois que tirei ele. Por isso está apenas como comentado no código.**\n",
                "\n",
                "\n",
                "![](https://i.imgur.com/oPjyPyg.png)\n",
                "\n",
                "\n",
                "\n",
                "**1 - STAGING \"QUEM GASTOU?\"**\n",
                ""
            ],
            "metadata": {
                "azdata_cell_guid": "df5ff3ec-60d3-4695-b5c3-2dc38fbeea4b"
            },
            "attachments": {}
        },
        {
            "cell_type": "code",
            "source": [
                "USE DW_02\r\n",
                "GO\r\n",
                "--IF NOT EXISTS\r\n",
                "  --(SELECT * FROM sysobjects WHERE name='STG_QUEMGASTOU_ERP' AND xtype='U')\r\n",
                "CREATE TABLE [STAGINGG].[STG_QUEMGASTOU_ERP](\r\n",
                "\t\r\n",
                "    [Código Órgão Superior] [int],\r\n",
                "    [Nome Órgão Superior] [nvarchar], \r\n",
                "    [Código Órgão Subordinado] [int], \r\n",
                "    [Nome Órgão Subordinado] [nvarchar], \r\n",
                "    [Código Unidade Gestora] [int], \r\n",
                "    [Nome Unidade Gestora] [nvarchar],\r\n",
                "\r\n",
                "PRIMARY KEY CLUSTERED \r\n",
                "(\r\n",
                "\t[Nome Unidade Gestora] ASC\r\n",
                ")\r\n",
                "WITH (PAD_INDEX = OFF, STATISTICS_NORECOMPUTE = OFF, IGNORE_DUP_KEY = OFF, ALLOW_ROW_LOCKS = ON, ALLOW_PAGE_LOCKS = ON, OPTIMIZE_FOR_SEQUENTIAL_KEY = OFF) ON [PRIMARY]\r\n",
                ") ON [PRIMARY]\r\n",
                "GO"
            ],
            "metadata": {
                "azdata_cell_guid": "2ffc96b1-adb5-4cb8-a9ce-179bc8481209",
                "language": "sql"
            },
            "outputs": [
                {
                    "output_type": "display_data",
                    "data": {
                        "text/html": "Commands completed successfully."
                    },
                    "metadata": {}
                },
                {
                    "output_type": "error",
                    "ename": "",
                    "evalue": "Msg 2714, Level 16, State 6, Line 5\r\nThere is already an object named 'STG_QUEMGASTOU_ERP' in the database.",
                    "traceback": []
                },
                {
                    "output_type": "display_data",
                    "data": {
                        "text/html": "Total execution time: 00:00:00.361"
                    },
                    "metadata": {}
                }
            ],
            "execution_count": 124
        },
        {
            "cell_type": "markdown",
            "source": [
                "**2 - STAGING \"'DE ONDE TIROU' O DINHEIRO\"**"
            ],
            "metadata": {
                "azdata_cell_guid": "a6e2d79d-0920-4633-b580-bf81268e717b"
            },
            "attachments": {}
        },
        {
            "cell_type": "code",
            "source": [
                "USE DW_02\r\n",
                "GO\r\n",
                "--IF NOT EXISTS\r\n",
                "  --(SELECT * FROM sysobjects WHERE name='STG_DEONDETIROU_ERP' AND xtype='U')\r\n",
                "CREATE TABLE [STAGINGG].[STG_DEONDETIROU_ERP](\r\n",
                "\t\r\n",
                "    [Código Gestão] [int],\r\n",
                "    [Nome Gestão] [nvarchar], \r\n",
                "    [Código Unidade Orçamentária] [int], \r\n",
                "    [Nome Unidade Orçamentária] [nvarchar], \r\n",
                "    [Código Função] [int], \r\n",
                "    [Nome Função] [nvarchar], \r\n",
                "    [Código Subfução] [int], \r\n",
                "    [Nome Subfunção] [nvarchar], \r\n",
                "    [Código Programa Orçamentário] [int], \r\n",
                "    [Nome Programa Orçamentário] [nvarchar], \r\n",
                "    [Código Modalidade da Despesa] [int], \r\n",
                "    [Modalidade da Despesa] [nvarchar],\r\n",
                "\r\n",
                "PRIMARY KEY CLUSTERED \r\n",
                "(\r\n",
                "\t[Nome Programa Orçamentário] ASC\r\n",
                ")WITH (PAD_INDEX = OFF, STATISTICS_NORECOMPUTE = OFF, IGNORE_DUP_KEY = OFF, ALLOW_ROW_LOCKS = ON, ALLOW_PAGE_LOCKS = ON, OPTIMIZE_FOR_SEQUENTIAL_KEY = OFF) ON [PRIMARY]\r\n",
                ") ON [PRIMARY]\r\n",
                "GO"
            ],
            "metadata": {
                "azdata_cell_guid": "0ce780c2-93a3-4cc8-a459-0320e98b3cd2",
                "language": "sql"
            },
            "outputs": [
                {
                    "output_type": "display_data",
                    "data": {
                        "text/html": "Commands completed successfully."
                    },
                    "metadata": {}
                },
                {
                    "output_type": "error",
                    "ename": "",
                    "evalue": "Msg 2714, Level 16, State 6, Line 5\r\nThere is already an object named 'STG_DEONDETIROU_ERP' in the database.",
                    "traceback": []
                },
                {
                    "output_type": "display_data",
                    "data": {
                        "text/html": "Total execution time: 00:00:00.354"
                    },
                    "metadata": {}
                }
            ],
            "execution_count": 96
        },
        {
            "cell_type": "markdown",
            "source": [
                "**3 - STAGING \"MOTIVO DO GASTO\"**"
            ],
            "metadata": {
                "azdata_cell_guid": "a733a74b-ca39-4f0b-ae5a-d2699b82674f"
            },
            "attachments": {}
        },
        {
            "cell_type": "code",
            "source": [
                "USE DW_02\r\n",
                "GO\r\n",
                "--IF NOT EXISTS\r\n",
                "  --(SELECT * FROM sysobjects WHERE name='STG_MOTIVO_ERP' AND xtype='U')\r\n",
                "CREATE TABLE [STAGINGG].[STG_MOTIVO_ERP](\r\n",
                "\t\r\n",
                "    [Código Ação] [int],\r\n",
                "    [Nome Ação] [nvarchar], \r\n",
                "    [Código Plano Orçamentário] [int], \r\n",
                "    [Plano Orçamentário] [nvarchar], \r\n",
                "    [Código Programa Governo] [int], \r\n",
                "    [Nome Programa Governo] [nvarchar], \r\n",
                "    [Código Subtítulo] [int], \r\n",
                "    [Nome Subtítulo] [nvarchar], \r\n",
                "    [Código Grupo de Despesa] [int], \r\n",
                "    [Nome Grupo de Despesa] [nvarchar], \r\n",
                "    [Código Elemento de Despesa] [int], \r\n",
                "    [Nome Elemento de Despesa] [nvarchar], \r\n",
                "\r\n",
                "PRIMARY KEY CLUSTERED \r\n",
                "(\r\n",
                "\t[Plano Orçamentário] ASC\r\n",
                ")WITH (PAD_INDEX = OFF, STATISTICS_NORECOMPUTE = OFF, IGNORE_DUP_KEY = OFF, ALLOW_ROW_LOCKS = ON, ALLOW_PAGE_LOCKS = ON, OPTIMIZE_FOR_SEQUENTIAL_KEY = OFF) ON [PRIMARY]\r\n",
                ") ON [PRIMARY]\r\n",
                "GO"
            ],
            "metadata": {
                "azdata_cell_guid": "1abb4672-bb63-4465-9445-68c8718ade0a",
                "language": "sql"
            },
            "outputs": [
                {
                    "output_type": "display_data",
                    "data": {
                        "text/html": "Commands completed successfully."
                    },
                    "metadata": {}
                },
                {
                    "output_type": "error",
                    "ename": "",
                    "evalue": "Msg 2714, Level 16, State 6, Line 5\r\nThere is already an object named 'STG_MOTIVO_ERP' in the database.",
                    "traceback": []
                },
                {
                    "output_type": "display_data",
                    "data": {
                        "text/html": "Total execution time: 00:00:00.396"
                    },
                    "metadata": {}
                }
            ],
            "execution_count": 97
        },
        {
            "cell_type": "markdown",
            "source": [
                "**4 - STAGING \"LOCAL DO GASTO\"**"
            ],
            "metadata": {
                "azdata_cell_guid": "59353ac7-65cd-4612-8d2d-040fbbf70519"
            },
            "attachments": {}
        },
        {
            "cell_type": "code",
            "source": [
                "USE DW_02\r\n",
                "GO\r\n",
                "--IF NOT EXISTS\r\n",
                "  --(SELECT * FROM sysobjects WHERE name='STG_LOCAL_ERP' AND xtype='U')\r\n",
                "CREATE TABLE [STAGINGG].[STG_LOCAL_ERP](\r\n",
                "\t\r\n",
                "    [UF] [nvarchar],\r\n",
                "    [Município] [nvarchar], \r\n",
                "    [Código Localizador] [int], \r\n",
                "    [Nome Localizador] [nvarchar], \r\n",
                "    [Sigla Localizador] [nvarchar], \r\n",
                "    [Descrição Complementar Localizador] [nvarchar], \r\n",
                "    [Código Autor Emenda] [int], \r\n",
                "    [Nome Autor Emenda] [nvarchar], \r\n",
                "    [Código Categoria Econômica] [int], \r\n",
                "    [Nome Categoria Econômica] [nvarchar], \r\n",
                "\r\n",
                "PRIMARY KEY CLUSTERED \r\n",
                "(\r\n",
                "\t[Nome Localizador] ASC\r\n",
                ")WITH (PAD_INDEX = OFF, STATISTICS_NORECOMPUTE = OFF, IGNORE_DUP_KEY = OFF, ALLOW_ROW_LOCKS = ON, ALLOW_PAGE_LOCKS = ON, OPTIMIZE_FOR_SEQUENTIAL_KEY = OFF) ON [PRIMARY]\r\n",
                ") ON [PRIMARY]\r\n",
                "GO"
            ],
            "metadata": {
                "azdata_cell_guid": "e887c483-064c-4c88-9b14-062e1eee2925",
                "language": "sql"
            },
            "outputs": [
                {
                    "output_type": "display_data",
                    "data": {
                        "text/html": "Commands completed successfully."
                    },
                    "metadata": {}
                },
                {
                    "output_type": "error",
                    "ename": "",
                    "evalue": "Msg 2714, Level 16, State 6, Line 5\r\nThere is already an object named 'STG_LOCAL_ERP' in the database.",
                    "traceback": []
                },
                {
                    "output_type": "display_data",
                    "data": {
                        "text/html": "Total execution time: 00:00:00.347"
                    },
                    "metadata": {}
                }
            ],
            "execution_count": 98
        },
        {
            "cell_type": "markdown",
            "source": [
                "**Agora vamos criar a tabela fato desse star schema!**\n",
                "\n",
                "**Nota: Em \"ano e mês do lançamento\" eu achei melhor não colocar o tipo \\[date\\], porque ele possui formato AAAA-MM-DD ... E os dados do governo estão apenas como AAAA-MM ... Então para não dar erro deixei como \\[nvarchar\\].**"
            ],
            "metadata": {
                "azdata_cell_guid": "18688cc4-07c4-4bd0-adb0-5605f9a1e454"
            },
            "attachments": {}
        },
        {
            "cell_type": "code",
            "source": [
                "USE DW_02\r\n",
                "GO\r\n",
                "--IF NOT EXISTS\r\n",
                "  --(SELECT * FROM sysobjects WHERE name='STG_FATODASTAGING_ERP' AND xtype='U')\r\n",
                "CREATE TABLE [STAGINGG].[STG_FATODASTAGING_ERP](\r\n",
                "\r\n",
                "    [Ano e mês do lançamento] [nvarchar],\r\n",
                "    [Nome Unidade Gestora] [nvarchar], \r\n",
                "    [Nome Programa Orçamentário] [nvarchar], \r\n",
                "    [Plano Orçamentário] [nvarchar], \r\n",
                "    [Nome Localizador] [nvarchar], \r\n",
                "    [Valor Empenhado (R$)] [decimal], \r\n",
                "    [Valor Liquidado (R$)] [decimal], \r\n",
                "    [Valor Pago (R$)] [decimal], \r\n",
                "    [Valor Restos a Pagar Inscritos (R$)] [decimal], \r\n",
                "    [Valor Restos a Pagar Cancelado (R$)] [decimal], \r\n",
                "    [Valor Restos a Pagar Pagos (R$)] [decimal], \r\n",
                "\r\n",
                "PRIMARY KEY CLUSTERED \r\n",
                "(\r\n",
                "\t[Ano e mês do lançamento] ASC\r\n",
                ")WITH (PAD_INDEX = OFF, STATISTICS_NORECOMPUTE = OFF, IGNORE_DUP_KEY = OFF, ALLOW_ROW_LOCKS = ON, ALLOW_PAGE_LOCKS = ON, OPTIMIZE_FOR_SEQUENTIAL_KEY = OFF) ON [PRIMARY]\r\n",
                ") ON [PRIMARY]\r\n",
                "GO"
            ],
            "metadata": {
                "azdata_cell_guid": "a4d6f5d6-cb51-4077-a8e1-cf67318bde71",
                "language": "sql"
            },
            "outputs": [
                {
                    "output_type": "display_data",
                    "data": {
                        "text/html": "Commands completed successfully."
                    },
                    "metadata": {}
                },
                {
                    "output_type": "error",
                    "ename": "",
                    "evalue": "Msg 2714, Level 16, State 6, Line 5\r\nThere is already an object named 'STG_FATODASTAGING_ERP' in the database.",
                    "traceback": []
                },
                {
                    "output_type": "display_data",
                    "data": {
                        "text/html": "Commands completed successfully."
                    },
                    "metadata": {}
                },
                {
                    "output_type": "error",
                    "ename": "",
                    "evalue": "Msg 2714, Level 16, State 6, Line 32\r\nThere is already an object named 'STG_TESTE_ERP' in the database.",
                    "traceback": []
                },
                {
                    "output_type": "display_data",
                    "data": {
                        "text/html": "Total execution time: 00:00:00.698"
                    },
                    "metadata": {}
                }
            ],
            "execution_count": 108
        },
        {
            "cell_type": "markdown",
            "source": [
                "**Agora que já temos nossas tabelas criadas, vou trunca-las!**"
            ],
            "metadata": {
                "azdata_cell_guid": "45d4902f-0b97-47f6-ab5d-1e7ee5aae652"
            },
            "attachments": {}
        },
        {
            "cell_type": "code",
            "source": [
                "USE DW_02\r\n",
                "GO\r\n",
                "TRUNCATE TABLE [LOGG].[LOGG_CARGAS]\r\n",
                "GO\r\n",
                "TRUNCATE TABLE [STAGINGG].[STG_QUEMGASTOU_ERP]\r\n",
                "GO \r\n",
                "TRUNCATE TABLE [STAGINGG].[STG_DEONDETIROU_ERP]\r\n",
                "GO \r\n",
                "TRUNCATE TABLE [STAGINGG].[STG_MOTIVO_ERP]\r\n",
                "GO \r\n",
                "TRUNCATE TABLE [STAGINGG].[STG_LOCAL_ERP]\r\n",
                "GO \r\n",
                "TRUNCATE TABLE [STAGINGG].[STG_FATODASTAGING_ERP]\r\n",
                "GO "
            ],
            "metadata": {
                "azdata_cell_guid": "00c9468b-5cb3-43ce-8258-f388bb5ab15f",
                "language": "sql"
            },
            "outputs": [
                {
                    "output_type": "display_data",
                    "data": {
                        "text/html": "Commands completed successfully."
                    },
                    "metadata": {}
                },
                {
                    "output_type": "display_data",
                    "data": {
                        "text/html": "Commands completed successfully."
                    },
                    "metadata": {}
                },
                {
                    "output_type": "display_data",
                    "data": {
                        "text/html": "Commands completed successfully."
                    },
                    "metadata": {}
                },
                {
                    "output_type": "display_data",
                    "data": {
                        "text/html": "Commands completed successfully."
                    },
                    "metadata": {}
                },
                {
                    "output_type": "display_data",
                    "data": {
                        "text/html": "Commands completed successfully."
                    },
                    "metadata": {}
                },
                {
                    "output_type": "display_data",
                    "data": {
                        "text/html": "Commands completed successfully."
                    },
                    "metadata": {}
                },
                {
                    "output_type": "display_data",
                    "data": {
                        "text/html": "Commands completed successfully."
                    },
                    "metadata": {}
                },
                {
                    "output_type": "display_data",
                    "data": {
                        "text/html": "Total execution time: 00:00:01.662"
                    },
                    "metadata": {}
                }
            ],
            "execution_count": 1
        },
        {
            "cell_type": "markdown",
            "source": [
                "**Agora vou fazer a carga bulk nas minhas tabelas, que estão prontas para receber os dados.**\n",
                "\n",
                "**1 - Na tabela \"QUEM GASTOU\":**"
            ],
            "metadata": {
                "azdata_cell_guid": "c0d5b71f-5cac-4912-b259-3324d7add378"
            },
            "attachments": {}
        },
        {
            "cell_type": "code",
            "source": [
                "-- Primeiro arquivo de excel do governo:\r\n",
                "\r\n",
                "BULK INSERT\r\n",
                "[DW_02].[STAGINGG].[STG_QUEMGASTOU_ERP]\r\n",
                "FROM 'C:/DWE2023/desafio/fontes/202201_Despesas.csv' \r\n",
                "\r\n",
                "WITH\r\n",
                "(\r\n",
                "    codepage='ACP', \r\n",
                "    DATAFILETYPE ='char', \r\n",
                "    fieldterminator='|',\r\n",
                "    rowterminator='\\n',\r\n",
                "\tmaxerrors=0,\r\n",
                "\tfire_triggers,\r\n",
                "    firstrow=2\r\n",
                ")\r\n",
                "\r\n",
                "-- Segundo arquivo de excel do governo:\r\n",
                "\r\n",
                "BULK INSERT\r\n",
                "[DW_02].[STAGINGG].[STG_QUEMGASTOU_ERP]\r\n",
                "FROM 'C:/DWE2023/desafio/fontes/202202_Despesas.csv' \r\n",
                "\r\n",
                "WITH\r\n",
                "(\r\n",
                "    codepage='ACP', \r\n",
                "    DATAFILETYPE ='char', \r\n",
                "    fieldterminator='|',\r\n",
                "    rowterminator='\\n',\r\n",
                "\tmaxerrors=0,\r\n",
                "\tfire_triggers,\r\n",
                "    firstrow=2\r\n",
                ")\r\n",
                "\r\n",
                "-- Terceiro arquivo de excel do governo:\r\n",
                "\r\n",
                "BULK INSERT\r\n",
                "[DW_02].[STAGINGG].[STG_QUEMGASTOU_ERP]\r\n",
                "FROM 'C:/DWE2023/desafio/fontes/202203_Despesas.csv' \r\n",
                "\r\n",
                "WITH\r\n",
                "(\r\n",
                "    codepage='ACP', \r\n",
                "    DATAFILETYPE ='char', \r\n",
                "    fieldterminator='|',\r\n",
                "    rowterminator='\\n',\r\n",
                "\tmaxerrors=0,\r\n",
                "\tfire_triggers,\r\n",
                "    firstrow=2\r\n",
                ")\r\n",
                "\r\n",
                "-- Visualizar:\r\n",
                "\r\n",
                "select *  from [STAGINGG].[STG_QUEMGASTOU_ERP]"
            ],
            "metadata": {
                "azdata_cell_guid": "d06583ac-8b8c-44f4-ab7b-79e561460d67",
                "language": "sql"
            },
            "outputs": [
                {
                    "output_type": "error",
                    "ename": "",
                    "evalue": "Msg 4866, Level 16, State 8, Line 3\r\nThe bulk load failed. The column is too long in the data file for row 1, column 1. Verify that the field terminator and row terminator are specified correctly.",
                    "traceback": []
                },
                {
                    "output_type": "error",
                    "ename": "",
                    "evalue": "Msg 7301, Level 16, State 2, Line 3\r\nCannot obtain the required interface (\"IID_IColumnsInfo\") from OLE DB provider \"BULK\" for linked server \"(null)\".",
                    "traceback": []
                },
                {
                    "output_type": "display_data",
                    "data": {
                        "text/html": "Total execution time: 00:00:00.168"
                    },
                    "metadata": {}
                }
            ],
            "execution_count": 129
        },
        {
            "cell_type": "markdown",
            "source": [
                "**2 - Na tabela \"'DE ONDE TIROU' (o dinheiro)\":**"
            ],
            "metadata": {
                "azdata_cell_guid": "13ee825d-e131-4572-97fc-3bf124bdb00d"
            },
            "attachments": {}
        },
        {
            "cell_type": "code",
            "source": [
                "-- Primeiro arquivo de excel do governo:\r\n",
                "\r\n",
                "BULK INSERT\r\n",
                "[DW_02].[STAGINGG].[STG_DEONDETIROU_ERP]\r\n",
                "FROM 'C:/DWE2023/desafio/fontes/202201_Despesas.csv' \r\n",
                "\r\n",
                "WITH\r\n",
                "(\r\n",
                "    codepage='ACP', \r\n",
                "    DATAFILETYPE ='char', \r\n",
                "    fieldterminator='|',\r\n",
                "    rowterminator='\\n',\r\n",
                "\tmaxerrors=0,\r\n",
                "\tfire_triggers,\r\n",
                "    firstrow=2\r\n",
                ")\r\n",
                "\r\n",
                "-- Segundo arquivo de excel do governo:\r\n",
                "\r\n",
                "BULK INSERT\r\n",
                "[DW_02].[STAGINGG].[STG_DEONDETIROU_ERP]\r\n",
                "FROM 'C:/DWE2023/desafio/fontes/202202_Despesas.csv' \r\n",
                "\r\n",
                "WITH\r\n",
                "(\r\n",
                "    codepage='ACP', \r\n",
                "    DATAFILETYPE ='char', \r\n",
                "    fieldterminator='|',\r\n",
                "    rowterminator='\\n',\r\n",
                "\tmaxerrors=0,\r\n",
                "\tfire_triggers,\r\n",
                "    firstrow=2\r\n",
                ")\r\n",
                "\r\n",
                "-- Terceiro arquivo de excel do governo:\r\n",
                "\r\n",
                "BULK INSERT\r\n",
                "[DW_02].[STAGINGG].[STG_DEONDETIROU_ERP]\r\n",
                "FROM 'C:/DWE2023/desafio/fontes/202203_Despesas.csv' \r\n",
                "\r\n",
                "WITH\r\n",
                "(\r\n",
                "    codepage='ACP', \r\n",
                "    DATAFILETYPE ='char', \r\n",
                "    fieldterminator='|',\r\n",
                "    rowterminator='\\n',\r\n",
                "\tmaxerrors=0,\r\n",
                "\tfire_triggers,\r\n",
                "    firstrow=2\r\n",
                ")\r\n",
                "\r\n",
                "-- Visualizar:\r\n",
                "\r\n",
                "select *  from [STAGINGG].[STG_DEONDETIROU_ERP]"
            ],
            "metadata": {
                "azdata_cell_guid": "9a905c9a-5507-4e7d-8b48-30900a455f52",
                "language": "sql"
            },
            "outputs": [
                {
                    "output_type": "error",
                    "ename": "",
                    "evalue": "Msg 4866, Level 16, State 8, Line 3\r\nThe bulk load failed. The column is too long in the data file for row 1, column 1. Verify that the field terminator and row terminator are specified correctly.",
                    "traceback": []
                },
                {
                    "output_type": "error",
                    "ename": "",
                    "evalue": "Msg 7301, Level 16, State 2, Line 3\r\nCannot obtain the required interface (\"IID_IColumnsInfo\") from OLE DB provider \"BULK\" for linked server \"(null)\".",
                    "traceback": []
                },
                {
                    "output_type": "display_data",
                    "data": {
                        "text/html": "Total execution time: 00:00:00.178"
                    },
                    "metadata": {}
                }
            ],
            "execution_count": 113
        },
        {
            "cell_type": "markdown",
            "source": [
                "**3 - Na tabela \"MOTIVO DO GASTO\":**"
            ],
            "metadata": {
                "azdata_cell_guid": "c6f70408-5902-41cd-b528-942ff0e6e951"
            },
            "attachments": {}
        },
        {
            "cell_type": "code",
            "source": [
                "-- Primeiro arquivo de excel do governo:\r\n",
                "\r\n",
                "BULK INSERT\r\n",
                "[DW_02].[STAGINGG].[STG_MOTIVO_ERP]\r\n",
                "FROM 'C:/DWE2023/desafio/fontes/202201_Despesas.csv' \r\n",
                "\r\n",
                "WITH\r\n",
                "(\r\n",
                "    codepage='ACP', \r\n",
                "    DATAFILETYPE ='char', \r\n",
                "    fieldterminator='|',\r\n",
                "    rowterminator='\\n',\r\n",
                "\tmaxerrors=0,\r\n",
                "\tfire_triggers,\r\n",
                "    firstrow=2\r\n",
                ")\r\n",
                "\r\n",
                "-- Segundo arquivo de excel do governo:\r\n",
                "\r\n",
                "BULK INSERT\r\n",
                "[DW_02].[STAGINGG].[STG_MOTIVO_ERP]\r\n",
                "FROM 'C:/DWE2023/desafio/fontes/202202_Despesas.csv' \r\n",
                "\r\n",
                "WITH\r\n",
                "(\r\n",
                "    codepage='ACP', \r\n",
                "    DATAFILETYPE ='char', \r\n",
                "    fieldterminator='|',\r\n",
                "    rowterminator='\\n',\r\n",
                "\tmaxerrors=0,\r\n",
                "\tfire_triggers,\r\n",
                "    firstrow=2\r\n",
                ")\r\n",
                "\r\n",
                "-- Terceiro arquivo de excel do governo:\r\n",
                "\r\n",
                "BULK INSERT\r\n",
                "[DW_02].[STAGINGG].[STG_MOTIVO_ERP]\r\n",
                "FROM 'C:/DWE2023/desafio/fontes/202203_Despesas.csv' \r\n",
                "\r\n",
                "WITH\r\n",
                "(\r\n",
                "    codepage='ACP', \r\n",
                "    DATAFILETYPE ='char', \r\n",
                "    fieldterminator='|',\r\n",
                "    rowterminator='\\n',\r\n",
                "\tmaxerrors=0,\r\n",
                "\tfire_triggers,\r\n",
                "    firstrow=2\r\n",
                ")\r\n",
                "\r\n",
                "-- Visualizar:\r\n",
                "\r\n",
                "select *  from [STAGINGG].[STG_MOTIVO_ERP]"
            ],
            "metadata": {
                "azdata_cell_guid": "6427035a-cbbb-45ff-95d1-1d0f0dd41ee3",
                "language": "sql"
            },
            "outputs": [
                {
                    "output_type": "error",
                    "ename": "",
                    "evalue": "Msg 4866, Level 16, State 8, Line 3\r\nThe bulk load failed. The column is too long in the data file for row 1, column 1. Verify that the field terminator and row terminator are specified correctly.",
                    "traceback": []
                },
                {
                    "output_type": "error",
                    "ename": "",
                    "evalue": "Msg 7301, Level 16, State 2, Line 3\r\nCannot obtain the required interface (\"IID_IColumnsInfo\") from OLE DB provider \"BULK\" for linked server \"(null)\".",
                    "traceback": []
                },
                {
                    "output_type": "display_data",
                    "data": {
                        "text/html": "Total execution time: 00:00:00.165"
                    },
                    "metadata": {}
                }
            ],
            "execution_count": 114
        },
        {
            "cell_type": "markdown",
            "source": [
                "**4 - Na tabela \"LOCAL DO GASTO\":**"
            ],
            "metadata": {
                "azdata_cell_guid": "cd0a4c69-6a9f-4e31-b4a0-b98aae17a5db"
            },
            "attachments": {}
        },
        {
            "cell_type": "code",
            "source": [
                "-- Primeiro arquivo de excel do governo:\r\n",
                "\r\n",
                "BULK INSERT\r\n",
                "[DW_02].[STAGINGG].[STG_LOCAL_ERP]\r\n",
                "FROM 'C:/DWE2023/desafio/fontes/202201_Despesas.csv' \r\n",
                "\r\n",
                "WITH\r\n",
                "(\r\n",
                "    codepage='ACP', \r\n",
                "    DATAFILETYPE ='char', \r\n",
                "    fieldterminator='|',\r\n",
                "    rowterminator='\\n',\r\n",
                "\tmaxerrors=0,\r\n",
                "\tfire_triggers,\r\n",
                "    firstrow=2\r\n",
                ")\r\n",
                "\r\n",
                "-- Segundo arquivo de excel do governo:\r\n",
                "\r\n",
                "BULK INSERT\r\n",
                "[DW_02].[STAGINGG].[STG_LOCAL_ERP]\r\n",
                "FROM 'C:/DWE2023/desafio/fontes/202202_Despesas.csv' \r\n",
                "\r\n",
                "WITH\r\n",
                "(\r\n",
                "    codepage='ACP', \r\n",
                "    DATAFILETYPE ='char', \r\n",
                "    fieldterminator='|',\r\n",
                "    rowterminator='\\n',\r\n",
                "\tmaxerrors=0,\r\n",
                "\tfire_triggers,\r\n",
                "    firstrow=2\r\n",
                ")\r\n",
                "\r\n",
                "-- Terceiro arquivo de excel do governo:\r\n",
                "\r\n",
                "BULK INSERT\r\n",
                "[DW_02].[STAGINGG].[STG_LOCAL_ERP]\r\n",
                "FROM 'C:/DWE2023/desafio/fontes/202203_Despesas.csv' \r\n",
                "\r\n",
                "WITH\r\n",
                "(\r\n",
                "    codepage='ACP', \r\n",
                "    DATAFILETYPE ='char', \r\n",
                "    fieldterminator='|',\r\n",
                "    rowterminator='\\n',\r\n",
                "\tmaxerrors=0,\r\n",
                "\tfire_triggers,\r\n",
                "    firstrow=2\r\n",
                ")\r\n",
                "\r\n",
                "-- Visualizar:\r\n",
                "\r\n",
                "select *  from [STAGINGG].[STG_LOCAL_ERP]"
            ],
            "metadata": {
                "azdata_cell_guid": "8fe29c5d-3300-4903-9bc3-ee914e83f583",
                "language": "sql"
            },
            "outputs": [
                {
                    "output_type": "error",
                    "ename": "",
                    "evalue": "Msg 4866, Level 16, State 8, Line 3\r\nThe bulk load failed. The column is too long in the data file for row 1, column 1. Verify that the field terminator and row terminator are specified correctly.",
                    "traceback": []
                },
                {
                    "output_type": "error",
                    "ename": "",
                    "evalue": "Msg 7301, Level 16, State 2, Line 3\r\nCannot obtain the required interface (\"IID_IColumnsInfo\") from OLE DB provider \"BULK\" for linked server \"(null)\".",
                    "traceback": []
                },
                {
                    "output_type": "display_data",
                    "data": {
                        "text/html": "Total execution time: 00:00:00.163"
                    },
                    "metadata": {}
                }
            ],
            "execution_count": 115
        },
        {
            "cell_type": "markdown",
            "source": [
                "**5 - Na tabela Fato da staging:**"
            ],
            "metadata": {
                "azdata_cell_guid": "edfa60c3-c175-44a2-9e25-1df1bfb007db"
            },
            "attachments": {}
        },
        {
            "cell_type": "code",
            "source": [
                "-- Primeiro arquivo de excel do governo:\r\n",
                "\r\n",
                "BULK INSERT\r\n",
                "[DW_02].[STAGINGG].[STG_FATODASTAGING_ERP]\r\n",
                "FROM 'C:/DWE2023/desafio/fontes/202201_Despesas.csv' \r\n",
                "\r\n",
                "WITH\r\n",
                "(\r\n",
                "    codepage='ACP', \r\n",
                "    DATAFILETYPE ='char', \r\n",
                "    fieldterminator='|',\r\n",
                "    rowterminator='\\n',\r\n",
                "\tmaxerrors=0,\r\n",
                "\tfire_triggers,\r\n",
                "    firstrow=2\r\n",
                ")\r\n",
                "\r\n",
                "-- Segundo arquivo de excel do governo:\r\n",
                "\r\n",
                "BULK INSERT\r\n",
                "[DW_02].[STAGINGG].[STG_FATODASTAGING_ERP]\r\n",
                "FROM 'C:/DWE2023/desafio/fontes/202202_Despesas.csv' \r\n",
                "\r\n",
                "WITH\r\n",
                "(\r\n",
                "    codepage='ACP', \r\n",
                "    DATAFILETYPE ='char', \r\n",
                "    fieldterminator='|',\r\n",
                "    rowterminator='\\n',\r\n",
                "\tmaxerrors=0,\r\n",
                "\tfire_triggers,\r\n",
                "    firstrow=2\r\n",
                ")\r\n",
                "\r\n",
                "-- Terceiro arquivo de excel do governo:\r\n",
                "\r\n",
                "BULK INSERT\r\n",
                "[DW_02].[STAGINGG].[STG_FATODASTAGING_ERP]\r\n",
                "FROM 'C:/DWE2023/desafio/fontes/202203_Despesas.csv' \r\n",
                "\r\n",
                "WITH\r\n",
                "(\r\n",
                "    codepage='ACP', \r\n",
                "    DATAFILETYPE ='char', \r\n",
                "    fieldterminator='|',\r\n",
                "    rowterminator='\\n',\r\n",
                "\tmaxerrors=0,\r\n",
                "\tfire_triggers,\r\n",
                "    firstrow=2\r\n",
                ")\r\n",
                "\r\n",
                "-- Visualizar:\r\n",
                "\r\n",
                "select *  from [STAGINGG].[STG_FATODASTAGING_ERP]"
            ],
            "metadata": {
                "azdata_cell_guid": "23561c23-57ce-4f40-af31-474a1294dcb2",
                "language": "sql"
            },
            "outputs": [
                {
                    "output_type": "error",
                    "ename": "",
                    "evalue": "Msg 4866, Level 16, State 8, Line 3\r\nThe bulk load failed. The column is too long in the data file for row 1, column 1. Verify that the field terminator and row terminator are specified correctly.",
                    "traceback": []
                },
                {
                    "output_type": "error",
                    "ename": "",
                    "evalue": "Msg 7301, Level 16, State 2, Line 3\r\nCannot obtain the required interface (\"IID_IColumnsInfo\") from OLE DB provider \"BULK\" for linked server \"(null)\".",
                    "traceback": []
                },
                {
                    "output_type": "display_data",
                    "data": {
                        "text/html": "Total execution time: 00:00:00.169"
                    },
                    "metadata": {}
                }
            ],
            "execution_count": 117
        },
        {
            "cell_type": "markdown",
            "source": [
                "**Agora sim...**\n",
                "\n",
                "**Schema staging completo, Vamos para o Schema silver!**\n",
                "\n",
                "**Que é o que nos interessa e o que foi pedido :)**\n",
                "\n",
                "**Essa foi minha maneira de organizar um star schema, de acordo com as categorias solicitadas.**\n",
                "\n",
                "**Nota: a imagem tem um errinho. Na tabela verde (da direita) era para a linha \"Nome Grupo de Despesa\" estar grifada em amarelo!**\n",
                "\n",
                "![](https://i.imgur.com/cX0qBTj.png)\n",
                "\n",
                "**Vou criar minha primeira tabela dimensão, que vou chamar de \"DIM\\_QUEMGASTOU2\":**"
            ],
            "metadata": {
                "azdata_cell_guid": "0cc66ffd-5a06-4037-902a-89a9e144377c"
            },
            "attachments": {}
        },
        {
            "cell_type": "code",
            "source": [
                "USE [DW_02]\r\n",
                "GO\r\n",
                "CREATE TABLE SILVERR.[DIM_QUEMGASTOU2](\r\n",
                "\r\n",
                "    [Nome Órgão Superior] [nvarchar], \r\n",
                "    [Nome Órgão Subordinado] [nvarchar],\r\n",
                "    [Nome Unidade Gestora] [nvarchar],\r\n",
                "\r\n",
                "PRIMARY KEY CLUSTERED \r\n",
                "(\r\n",
                "\t[Nome Unidade Gestora] ASC\r\n",
                ")WITH (PAD_INDEX = OFF, STATISTICS_NORECOMPUTE = OFF, IGNORE_DUP_KEY = OFF, ALLOW_ROW_LOCKS = ON, ALLOW_PAGE_LOCKS = ON, OPTIMIZE_FOR_SEQUENTIAL_KEY = OFF) ON [PRIMARY]\r\n",
                ") ON [PRIMARY]\r\n",
                "GO"
            ],
            "metadata": {
                "azdata_cell_guid": "21f861ba-60cd-4b62-a9e9-f5c51881a91b",
                "language": "sql"
            },
            "outputs": [
                {
                    "output_type": "display_data",
                    "data": {
                        "text/html": "Commands completed successfully."
                    },
                    "metadata": {}
                },
                {
                    "output_type": "error",
                    "ename": "",
                    "evalue": "Msg 2714, Level 16, State 6, Line 3\r\nThere is already an object named 'DIM_QUEMGASTOU2' in the database.",
                    "traceback": []
                },
                {
                    "output_type": "display_data",
                    "data": {
                        "text/html": "Total execution time: 00:00:00.352"
                    },
                    "metadata": {}
                }
            ],
            "execution_count": 131
        },
        {
            "cell_type": "markdown",
            "source": [
                "**Vou criar minha segunda tabela dimensão, que vou chamar de \"DIM\\_DEONDETIROU2\":**"
            ],
            "metadata": {
                "azdata_cell_guid": "4720ca38-17d4-4376-a378-575cafb2e875"
            },
            "attachments": {}
        },
        {
            "cell_type": "code",
            "source": [
                "USE [DW_02]\r\n",
                "GO\r\n",
                "CREATE TABLE SILVERR.[DIM_DEONDETIROU2](\r\n",
                "\r\n",
                "    [Nome Gestão] [nvarchar], \r\n",
                "    [Nome Grupo de Despesa] [nvarchar],\r\n",
                "\r\n",
                "PRIMARY KEY CLUSTERED \r\n",
                "(\r\n",
                "\t[Nome Grupo de Despesa] ASC\r\n",
                ")WITH (PAD_INDEX = OFF, STATISTICS_NORECOMPUTE = OFF, IGNORE_DUP_KEY = OFF, ALLOW_ROW_LOCKS = ON, ALLOW_PAGE_LOCKS = ON, OPTIMIZE_FOR_SEQUENTIAL_KEY = OFF) ON [PRIMARY]\r\n",
                ") ON [PRIMARY]\r\n",
                "GO"
            ],
            "metadata": {
                "azdata_cell_guid": "6eed3a1c-57ae-4de4-a792-22de0cae9cf2",
                "language": "sql"
            },
            "outputs": [
                {
                    "output_type": "display_data",
                    "data": {
                        "text/html": "Commands completed successfully."
                    },
                    "metadata": {}
                },
                {
                    "output_type": "error",
                    "ename": "",
                    "evalue": "Msg 2714, Level 16, State 6, Line 3\r\nThere is already an object named 'DIM_DEONDETIROU2' in the database.",
                    "traceback": []
                },
                {
                    "output_type": "display_data",
                    "data": {
                        "text/html": "Total execution time: 00:00:00.341"
                    },
                    "metadata": {}
                }
            ],
            "execution_count": 133
        },
        {
            "cell_type": "markdown",
            "source": [
                "> **Por fim vou criar minha tabela fato, que vou chamar de \"FATO2\". Ela estará no schema gold:**"
            ],
            "metadata": {
                "azdata_cell_guid": "39ccbcd9-7aa9-4662-b41a-ae150170894a"
            },
            "attachments": {}
        },
        {
            "cell_type": "code",
            "source": [
                "USE [DW_02]\r\n",
                "GO\r\n",
                "CREATE TABLE GOLDD.FATO2\r\n",
                "(\r\n",
                "\r\n",
                "    [Ano e mês do lançamento] [nvarchar],\r\n",
                "    [Nome Unidade Gestora] [nvarchar],\r\n",
                "    [Nome Grupo de Despesa] [nvarchar],\r\n",
                "    [Valor Empenhado (R$)] [decimal], \r\n",
                "    [Valor Liquidado (R$)] [decimal], \r\n",
                "    [Valor Pago (R$)] [decimal],\r\n",
                "\r\n",
                ")\r\n",
                "GO"
            ],
            "metadata": {
                "azdata_cell_guid": "220fa5d9-aa02-4b68-adbb-78cfeccbaa5c",
                "language": "sql"
            },
            "outputs": [
                {
                    "output_type": "display_data",
                    "data": {
                        "text/html": "Commands completed successfully."
                    },
                    "metadata": {}
                },
                {
                    "output_type": "error",
                    "ename": "",
                    "evalue": "Msg 2714, Level 16, State 6, Line 3\r\nThere is already an object named 'FATO2' in the database.",
                    "traceback": []
                },
                {
                    "output_type": "display_data",
                    "data": {
                        "text/html": "Total execution time: 00:00:00.343"
                    },
                    "metadata": {}
                }
            ],
            "execution_count": 135
        },
        {
            "cell_type": "markdown",
            "source": [
                "**Foi até aqui que consegui chegar!**\n",
                "\n",
                "**Na verdade eu cheguei a escrever vários outros códigos e ir além. Escrevi todo o código para fazer a carga de dados no meu schema silver, por exemplo. Porém estava dando erro e não tive tempo de consertar... Então achei que seria mais honesto parar por aqui mesmo.**\n",
                "\n",
                "**Eu realmente queria ter chegado até o final, me empenhei muito para isso. Mas por outro lado também estou orgulhosa de todo meu esforço e de tudo que aprendi!!** \n",
                "\n",
                "**Vou continuar resolvendo esse desafio, mesmo depois do prazo final :)**\n",
                "\n",
                "**\\*\\*\\* Muito obrigada! \\*\\*\\***"
            ],
            "metadata": {
                "azdata_cell_guid": "e7bf1543-5200-42ae-ac96-72176bb91e50"
            },
            "attachments": {}
        }
    ]
}